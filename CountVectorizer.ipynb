{
 "cells": [
  {
   "cell_type": "code",
   "execution_count": 1,
   "metadata": {},
   "outputs": [],
   "source": [
    "import pandas as pd\n",
    "from sklearn.feature_extraction.text import CountVectorizer\n",
    "from sklearn.linear_model import PassiveAggressiveClassifier,LogisticRegression\n",
    "from sklearn.tree import DecisionTreeClassifier\n",
    "from sklearn.neighbors import KNeighborsClassifier\n",
    "from sklearn.naive_bayes import MultinomialNB\n",
    "from sklearn.svm import SVC\n",
    "from matplotlib import pyplot\n",
    "from sklearn.metrics import accuracy_score, confusion_matrix\n",
    "from sklearn.model_selection import train_test_split\n",
    "from sklearn.metrics import classification_report\n",
    "df = pd.read_csv('dataset.csv')"
   ]
  },
  {
   "cell_type": "code",
   "execution_count": 2,
   "metadata": {},
   "outputs": [],
   "source": [
    "df = df.set_index('Unnamed: 0')\n",
    "y = df.label\n",
    "df = df.drop('label', axis=1)\n",
    "X_train, X_test, y_train, y_test = train_test_split(df['text'], y, test_size=0.33, random_state=53)"
   ]
  },
  {
   "cell_type": "code",
   "execution_count": 3,
   "metadata": {},
   "outputs": [],
   "source": [
    "count_vectorizer = CountVectorizer(stop_words='english', max_df=0.7)\n",
    "count_train = count_vectorizer.fit_transform(X_train)\n",
    "count_test = count_vectorizer.transform(X_test)"
   ]
  },
  {
   "cell_type": "code",
   "execution_count": 4,
   "metadata": {},
   "outputs": [
    {
     "data": {
      "text/plain": [
       "['حلب', 'عربي', 'عن', 'لم', 'ما', 'محاولات', 'من', 'هذا', 'والمرضى', 'ยงade']"
      ]
     },
     "execution_count": 4,
     "metadata": {},
     "output_type": "execute_result"
    }
   ],
   "source": [
    "count_vectorizer.get_feature_names()[-10:]"
   ]
  },
  {
   "cell_type": "code",
   "execution_count": 5,
   "metadata": {},
   "outputs": [],
   "source": [
    "tfidf_df = pd.DataFrame(count_train.A, columns=count_vectorizer.get_feature_names())"
   ]
  },
  {
   "cell_type": "code",
   "execution_count": 6,
   "metadata": {},
   "outputs": [],
   "source": [
    "models = []\n",
    "models.append(('PAC',PassiveAggressiveClassifier(max_iter=50)))\n",
    "models.append(('LR', LogisticRegression(solver='liblinear', multi_class='ovr')))\n",
    "models.append(('KNN', KNeighborsClassifier()))\n",
    "models.append(('CART', DecisionTreeClassifier()))\n",
    "models.append(('NB', MultinomialNB()))\n",
    "models.append(('SVM', SVC(gamma='auto')))"
   ]
  },
  {
   "cell_type": "code",
   "execution_count": 11,
   "metadata": {},
   "outputs": [
    {
     "name": "stdout",
     "output_type": "stream",
     "text": [
      "PAC : Confusion Matrix [[911  97]\n",
      " [121 962]]\n",
      "PAC: 0.895744\n",
      "***************************\n",
      "              precision    recall  f1-score   support\n",
      "\n",
      "        FAKE       0.88      0.90      0.89      1008\n",
      "        REAL       0.91      0.89      0.90      1083\n",
      "\n",
      "    accuracy                           0.90      2091\n",
      "   macro avg       0.90      0.90      0.90      2091\n",
      "weighted avg       0.90      0.90      0.90      2091\n",
      "\n",
      "LR : Confusion Matrix [[948  60]\n",
      " [128 955]]\n",
      "LR: 0.910091\n",
      "***************************\n",
      "              precision    recall  f1-score   support\n",
      "\n",
      "        FAKE       0.88      0.94      0.91      1008\n",
      "        REAL       0.94      0.88      0.91      1083\n",
      "\n",
      "    accuracy                           0.91      2091\n",
      "   macro avg       0.91      0.91      0.91      2091\n",
      "weighted avg       0.91      0.91      0.91      2091\n",
      "\n",
      "KNN : Confusion Matrix [[838 170]\n",
      " [261 822]]\n",
      "KNN: 0.793879\n",
      "***************************\n",
      "              precision    recall  f1-score   support\n",
      "\n",
      "        FAKE       0.76      0.83      0.80      1008\n",
      "        REAL       0.83      0.76      0.79      1083\n",
      "\n",
      "    accuracy                           0.79      2091\n",
      "   macro avg       0.80      0.80      0.79      2091\n",
      "weighted avg       0.80      0.79      0.79      2091\n",
      "\n",
      "CART : Confusion Matrix [[828 180]\n",
      " [209 874]]\n",
      "CART: 0.813965\n",
      "***************************\n",
      "              precision    recall  f1-score   support\n",
      "\n",
      "        FAKE       0.80      0.82      0.81      1008\n",
      "        REAL       0.83      0.81      0.82      1083\n",
      "\n",
      "    accuracy                           0.81      2091\n",
      "   macro avg       0.81      0.81      0.81      2091\n",
      "weighted avg       0.81      0.81      0.81      2091\n",
      "\n",
      "NB : Confusion Matrix [[ 865  143]\n",
      " [  80 1003]]\n",
      "NB: 0.893352\n",
      "***************************\n",
      "              precision    recall  f1-score   support\n",
      "\n",
      "        FAKE       0.92      0.86      0.89      1008\n",
      "        REAL       0.88      0.93      0.90      1083\n",
      "\n",
      "    accuracy                           0.89      2091\n",
      "   macro avg       0.90      0.89      0.89      2091\n",
      "weighted avg       0.89      0.89      0.89      2091\n",
      "\n",
      "SVM : Confusion Matrix [[974  34]\n",
      " [508 575]]\n",
      "SVM: 0.740794\n",
      "***************************\n",
      "              precision    recall  f1-score   support\n",
      "\n",
      "        FAKE       0.66      0.97      0.78      1008\n",
      "        REAL       0.94      0.53      0.68      1083\n",
      "\n",
      "    accuracy                           0.74      2091\n",
      "   macro avg       0.80      0.75      0.73      2091\n",
      "weighted avg       0.81      0.74      0.73      2091\n",
      "\n"
     ]
    }
   ],
   "source": [
    "results = []\n",
    "names = []\n",
    "for name, model in models:\n",
    "    model.fit(count_train, y_train)\n",
    "    pred = model.predict(count_test)\n",
    "    score = accuracy_score(y_test, pred)\n",
    "    cm = confusion_matrix(y_test, pred, labels=['FAKE', 'REAL'])\n",
    "    print(\"{0} : Confusion Matrix {1}\".format(name,cm))\n",
    "    print('%s: %f' % (name, score))\n",
    "    print(\"***************************\")\n",
    "    print(classification_report(y_test, pred))\n",
    "    names.append(name)\n",
    "    results.append(score)"
   ]
  },
  {
   "cell_type": "code",
   "execution_count": 12,
   "metadata": {},
   "outputs": [
    {
     "name": "stdout",
     "output_type": "stream",
     "text": [
      "              precision    recall  f1-score   support\n",
      "\n",
      "        FAKE       0.66      0.97      0.78      1008\n",
      "        REAL       0.94      0.53      0.68      1083\n",
      "\n",
      "    accuracy                           0.74      2091\n",
      "   macro avg       0.80      0.75      0.73      2091\n",
      "weighted avg       0.81      0.74      0.73      2091\n",
      "\n"
     ]
    }
   ],
   "source": [
    "print(classification_report(y_test, pred))"
   ]
  },
  {
   "cell_type": "code",
   "execution_count": 13,
   "metadata": {},
   "outputs": [
    {
     "data": {
      "text/plain": [
       "<BarContainer object of 6 artists>"
      ]
     },
     "execution_count": 13,
     "metadata": {},
     "output_type": "execute_result"
    },
    {
     "data": {
      "image/png": "[encoded data removed]",
      "text/plain": [
       "<Figure size 432x288 with 1 Axes>"
      ]
     },
     "metadata": {
      "needs_background": "light"
     },
     "output_type": "display_data"
    }
   ],
   "source": [
    "pyplot.ylim(.100, .999)\n",
    "pyplot.bar(names, results, color ='maroon', width = 0.6)"
   ]
  },
  {
   "cell_type": "code",
   "execution_count": 14,
   "metadata": {},
   "outputs": [
    {
     "data": {
      "image/png": "[encoded data removed]",
      "text/plain": [
       "<Figure size 432x288 with 1 Axes>"
      ]
     },
     "metadata": {
      "needs_background": "light"
     },
     "output_type": "display_data"
    }
   ],
   "source": [
    "pyplot.title('Algorithm Comparison')\n",
    "pyplot.show()"
   ]
  },
  {
   "cell_type": "code",
   "execution_count": null,
   "metadata": {},
   "outputs": [],
   "source": []
  }
 ],
 "metadata": {
  "kernelspec": {
   "display_name": "Python 3 (ipykernel)",
   "language": "python",
   "name": "python3"
  },
  "language_info": {
   "codemirror_mode": {
    "name": "ipython",
    "version": 3
   },
   "file_extension": ".py",
   "mimetype": "text/x-python",
   "name": "python",
   "nbconvert_exporter": "python",
   "pygments_lexer": "ipython3",
   "version": "3.9.7"
  }
 },
 "nbformat": 4,
 "nbformat_minor": 2
}
